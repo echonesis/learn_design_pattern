{
 "cells": [
  {
   "cell_type": "markdown",
   "metadata": {},
   "source": [
    "## Essential Elements\n",
    "- Factory\n",
    "- Product objects"
   ]
  },
  {
   "cell_type": "code",
   "execution_count": 1,
   "metadata": {},
   "outputs": [],
   "source": [
    "import abc\n",
    "\n",
    "class Shape(metaclass=abc.ABCMeta):\n",
    "    @abc.abstractmethod\n",
    "    def draw(self):\n",
    "        return NotImplemented\n",
    "    \n",
    "class Circle(Shape):\n",
    "    def draw(self):\n",
    "        print(\"Circle Drawing...\")\n",
    "        \n",
    "class Rectangle(Shape):\n",
    "    def draw(self):\n",
    "        print(\"Rectangle Drawing...\")"
   ]
  },
  {
   "cell_type": "code",
   "execution_count": 2,
   "metadata": {},
   "outputs": [],
   "source": [
    "class SimpleFactory:\n",
    "    @staticmethod\n",
    "    def createProduct(x):\n",
    "        if x == \"Circle\":\n",
    "            return Circle()\n",
    "        elif x == \"Rectangle\":\n",
    "            return Rectangle()\n",
    "        else:\n",
    "            return None"
   ]
  },
  {
   "cell_type": "code",
   "execution_count": 4,
   "metadata": {},
   "outputs": [
    {
     "name": "stdout",
     "output_type": "stream",
     "text": [
      "Circle Drawing...\n",
      "Rectangle Drawing...\n"
     ]
    }
   ],
   "source": [
    "SimpleFactory.createProduct(\"Circle\").draw()\n",
    "SimpleFactory.createProduct(\"Rectangle\").draw()"
   ]
  },
  {
   "cell_type": "code",
   "execution_count": null,
   "metadata": {},
   "outputs": [],
   "source": []
  }
 ],
 "metadata": {
  "kernelspec": {
   "display_name": "Python 3",
   "language": "python",
   "name": "python3"
  },
  "language_info": {
   "codemirror_mode": {
    "name": "ipython",
    "version": 3
   },
   "file_extension": ".py",
   "mimetype": "text/x-python",
   "name": "python",
   "nbconvert_exporter": "python",
   "pygments_lexer": "ipython3",
   "version": "3.7.3"
  }
 },
 "nbformat": 4,
 "nbformat_minor": 2
}
