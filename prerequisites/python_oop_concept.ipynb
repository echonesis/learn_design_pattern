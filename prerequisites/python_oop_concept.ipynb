{
 "cells": [
  {
   "cell_type": "markdown",
   "metadata": {},
   "source": [
    "- Singleton，如果不需要很多實體或可以重複使用: static methods\n",
    "- 跟Singleton類似，但需要使用傳遞的參數: class methods\n",
    "- 需要使用介面實作，簡單來說是個超類別，不會需要實體化: abstract methods"
   ]
  },
  {
   "cell_type": "code",
   "execution_count": 8,
   "metadata": {},
   "outputs": [
    {
     "name": "stdout",
     "output_type": "stream",
     "text": [
      "Get score:100\n",
      "Get score:20\n",
      "Get score:40\n"
     ]
    }
   ],
   "source": [
    "# static\n",
    "class Student:\n",
    "    def __init__(self, grade, score):\n",
    "        self.grade = grade\n",
    "        self.score = score\n",
    "        \n",
    "    @staticmethod\n",
    "    def test(x):\n",
    "        print(\"Get score:\" + str(x))\n",
    "        \n",
    "Student.test(100)\n",
    "\n",
    "student1 = Student(1, 20)\n",
    "student1.test(student1.score)\n",
    "student1.test(40)"
   ]
  },
  {
   "cell_type": "code",
   "execution_count": 12,
   "metadata": {},
   "outputs": [
    {
     "name": "stdout",
     "output_type": "stream",
     "text": [
      "Get score:60\n",
      "Get score:60\n"
     ]
    }
   ],
   "source": [
    "# class\n",
    "class Student:\n",
    "    pass_score = 60\n",
    "    def __init__(self, grade, score):\n",
    "        self.grade = grade\n",
    "        self.score = score\n",
    "        \n",
    "    @classmethod\n",
    "    def test(cls):\n",
    "        print(\"Get score:\" + str(cls.pass_score))\n",
    "        \n",
    "Student.test()\n",
    "\n",
    "student2 = Student(2, 30)\n",
    "student2.test()"
   ]
  },
  {
   "cell_type": "code",
   "execution_count": 14,
   "metadata": {},
   "outputs": [
    {
     "name": "stdout",
     "output_type": "stream",
     "text": [
      "Test is coming...\n"
     ]
    }
   ],
   "source": [
    "# abstract\n",
    "import abc\n",
    "\n",
    "class Human(metaclass=abc.ABCMeta):\n",
    "    @abc.abstractmethod\n",
    "    def test(self):\n",
    "        return NotImplemented\n",
    "    \n",
    "class Student(Human):\n",
    "    def test(self):\n",
    "        print(\"Test is coming...\")\n",
    "        \n",
    "Student().test()"
   ]
  },
  {
   "cell_type": "markdown",
   "metadata": {},
   "source": [
    "## Reference\n",
    "1. [OOP Advanced Skills](https://medium.com/citycoddee/python%E9%80%B2%E9%9A%8E%E6%8A%80%E5%B7%A7-2-static-class-abstract-methods%E4%B9%8B%E5%AF%A6%E7%8F%BE-1e3b3998bccf)"
   ]
  }
 ],
 "metadata": {
  "kernelspec": {
   "display_name": "Python 3",
   "language": "python",
   "name": "python3"
  },
  "language_info": {
   "codemirror_mode": {
    "name": "ipython",
    "version": 3
   },
   "file_extension": ".py",
   "mimetype": "text/x-python",
   "name": "python",
   "nbconvert_exporter": "python",
   "pygments_lexer": "ipython3",
   "version": "3.7.3"
  }
 },
 "nbformat": 4,
 "nbformat_minor": 2
}
