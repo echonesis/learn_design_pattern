{
 "cells": [
  {
   "cell_type": "code",
   "execution_count": 2,
   "metadata": {},
   "outputs": [],
   "source": [
    "import abc"
   ]
  },
  {
   "cell_type": "code",
   "execution_count": 3,
   "metadata": {},
   "outputs": [
    {
     "ename": "TypeError",
     "evalue": "Can't instantiate abstract class Shiba with abstract methods eat_shit",
     "output_type": "error",
     "traceback": [
      "\u001b[0;31m---------------------------------------------------------------------------\u001b[0m",
      "\u001b[0;31mTypeError\u001b[0m                                 Traceback (most recent call last)",
      "\u001b[0;32m<ipython-input-3-367670d95ce1>\u001b[0m in \u001b[0;36m<module>\u001b[0;34m\u001b[0m\n\u001b[1;32m      9\u001b[0m \u001b[0;34m\u001b[0m\u001b[0m\n\u001b[1;32m     10\u001b[0m \u001b[0;34m\u001b[0m\u001b[0m\n\u001b[0;32m---> 11\u001b[0;31m \u001b[0mShiba\u001b[0m\u001b[0;34m(\u001b[0m\u001b[0;34m)\u001b[0m\u001b[0;34m\u001b[0m\u001b[0;34m\u001b[0m\u001b[0m\n\u001b[0m",
      "\u001b[0;31mTypeError\u001b[0m: Can't instantiate abstract class Shiba with abstract methods eat_shit"
     ]
    }
   ],
   "source": [
    "class Dog(metaclass=abc.ABCMeta):\n",
    "    @abc.abstractmethod\n",
    "    def eat_shit(self):\n",
    "        return NotImplemented\n",
    "\n",
    "\n",
    "class Shiba(Dog):\n",
    "    pass\n",
    "\n",
    "\n",
    "Shiba()"
   ]
  },
  {
   "cell_type": "code",
   "execution_count": 4,
   "metadata": {},
   "outputs": [
    {
     "name": "stdout",
     "output_type": "stream",
     "text": [
      "I'm eating shit\n",
      "I'm peeing........\n"
     ]
    }
   ],
   "source": [
    "class Dog(metaclass=abc.ABCMeta):\n",
    "    @abc.abstractmethod\n",
    "    def eat_shit(self):\n",
    "        return NotImplemented\n",
    "\n",
    "    @abc.abstractmethod\n",
    "    def pee(self):\n",
    "        return NotImplemented\n",
    "\n",
    "\n",
    "class Shiba(Dog):\n",
    "    def eat_shit(self):\n",
    "        print(\"I'm eating shit\".format())\n",
    "\n",
    "    def pee(self):\n",
    "        print(\"I'm peeing........\")\n",
    "\n",
    "\n",
    "Shiba().eat_shit()\n",
    "# Result > I'm eating shit\n",
    "\n",
    "Shiba().pee()\n",
    "# Result > I'm peeing........"
   ]
  },
  {
   "cell_type": "code",
   "execution_count": null,
   "metadata": {},
   "outputs": [],
   "source": []
  }
 ],
 "metadata": {
  "kernelspec": {
   "display_name": "Python 3",
   "language": "python",
   "name": "python3"
  },
  "language_info": {
   "codemirror_mode": {
    "name": "ipython",
    "version": 3
   },
   "file_extension": ".py",
   "mimetype": "text/x-python",
   "name": "python",
   "nbconvert_exporter": "python",
   "pygments_lexer": "ipython3",
   "version": "3.7.3"
  }
 },
 "nbformat": 4,
 "nbformat_minor": 2
}
